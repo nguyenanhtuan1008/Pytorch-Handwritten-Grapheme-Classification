{
 "cells": [
  {
   "cell_type": "code",
   "execution_count": 1,
   "metadata": {},
   "outputs": [],
   "source": [
    "import pretrainedmodels"
   ]
  },
  {
   "cell_type": "code",
   "execution_count": 2,
   "metadata": {},
   "outputs": [],
   "source": [
    "import sys\n",
    "pt_models = \"../input/pretrained-models/pretrained-models.pytorch-master/\"\n",
    "sys.path.insert(0, pt_models)\n",
    "import pretrainedmodels"
   ]
  },
  {
   "cell_type": "code",
   "execution_count": 3,
   "metadata": {},
   "outputs": [],
   "source": [
    "import glob\n",
    "import torch\n",
    "import albumentations\n",
    "import pandas as pd\n",
    "import numpy as np\n",
    "from tqdm import tqdm\n",
    "from PIL import Image\n",
    "import joblib\n",
    "import torch.nn as nn\n",
    "from torch.nn import functional as F"
   ]
  },
  {
   "cell_type": "code",
   "execution_count": 4,
   "metadata": {},
   "outputs": [],
   "source": [
    "TEST_BATCH_SIZE = 32\n",
    "MODEL_MEAN=(0.485, 0.456, 0.406)\n",
    "MODEL_STD=(0.229, 0.224, 0.225)\n",
    "IMG_HEIGHT=137\n",
    "IMG_WIDTH=236\n",
    "DEVICE=\"cuda\""
   ]
  },
  {
   "cell_type": "code",
   "execution_count": null,
   "metadata": {},
   "outputs": [],
   "source": [
    "class ResNet34(nn.Module):\n",
    "    def __init__(self, pretrained):\n",
    "        super(ResNet34, self).__init__()\n",
    "        if pretrained is True:\n",
    "            self.model = pretrainedmodels.__dict__[\"resnet34\"](pretrained=\"imagenet\")\n",
    "        else:\n",
    "            self.model = pretrainedmodels.__dict__[\"resnet34\"](pretrained=None)\n",
    "\n",
    "        self.l0 = nn.Linear(512, 168)\n",
    "        self.l1 = nn.Linear(512, 11)\n",
    "        self.l2 = nn.Linear(512, 7)\n",
    "    \n",
    "    def forward(self, x):\n",
    "        bs, _, _, _ =  x.shape\n",
    "        x = self.model.features(x)\n",
    "        x = F.adaptive_avg_pool2d(x, 1).reshape(bs, -1)\n",
    "        l0 = self.l0(x)\n",
    "        l1 = self.l1(x)\n",
    "        l2 = self.l2(x)\n",
    "        return l0, l1, l2"
   ]
  },
  {
   "cell_type": "code",
   "execution_count": null,
   "metadata": {},
   "outputs": [],
   "source": [
    "class BengaliDatasetTest:\n",
    "    def __init__(self, df, img_height, img_width, mean, std):\n",
    "        self.image_ids = df.image_id.values\n",
    "        self.img_arr = df.iloc[:, 1:].values\n",
    "        \n",
    "        self.aug = albumentations.Compose([\n",
    "            albumentations.Resize(img_height, img_width, always_apply=True),\n",
    "            albumentations.Normalize(mean, std, always_apply=True)\n",
    "        ])\n",
    "\n",
    "    def __len__(self):\n",
    "        return len(self.image_ids)\n",
    "    \n",
    "    def __getitem__(self, item):\n",
    "        image = self.img_arr[item, :]\n",
    "        img_id = self.image_ids[item]\n",
    "        image = image.reshape(137, 236).astype(float)\n",
    "        image = Image.fromarray(image).convert(\"RGB\")\n",
    "        image = self.aug(image=np.array(image))[\"image\"]\n",
    "        image = np.transpose(image, (2, 0, 1)).astype(np.float32)\n",
    "        return {\n",
    "            'image': torch.tensor(image, dtype=torch.float),\n",
    "            'image_id': img_id\n",
    "        }\n"
   ]
  },
  {
   "cell_type": "code",
   "execution_count": null,
   "metadata": {},
   "outputs": [],
   "source": [
    "model = ResNet34(pretrained=False)\n",
    "model.load_state_dict(torch.load(\"../input/bengali_models/resnet34_fold_0.bin\"))\n",
    "model.eval()"
   ]
  },
  {
   "cell_type": "code",
   "execution_count": null,
   "metadata": {},
   "outputs": [],
   "source": [
    "predictions = []\n",
    "for file_idx in range(4):\n",
    "    df = pd.read_parquet(f\"../input/bengaliai-cv19/test_image_dat_{file_idx}.parquet\")\n",
    "    dataset = BengaliDatasetTest(df=df, img_height=IMG_HEIGHT, \n",
    "                                 img_width=IMG_WIDTH, mean=MODEL_MEAN, std=MODEL_STD)\n",
    "    data_loader = torch.ultils.data.DataLoader(dataset, batch_size=TEST_BATCH_SIZE,\n",
    "                                               shuffle=False,\n",
    "                                               num_workers=4)\n",
    "    for bi, d in enumerate(dataset):\n",
    "        image = d[\"image\"]\n",
    "        img_id = d[\"image_id\"]\n",
    "        image = image.to(DEVICE, dtype=torch.float)\n",
    "        g, v, c = model(image)\n",
    "        g = np.argmax(g, axis=1)\n",
    "        v = np.argmax(v, axis=1)\n",
    "        c = np.argmax(c, axis=1)\n",
    "        for ii, imid in enumerate(img_id):\n",
    "            predictions.append((f\"{imid}_grapheme_root\", g[ii]))\n",
    "            predictions.append((f\"{imid}_vowel_diacritic\", v[ii]))\n",
    "            predictions.append((f\"{imid}_consonant_diacritic\", c[ii]))"
   ]
  },
  {
   "cell_type": "code",
   "execution_count": null,
   "metadata": {},
   "outputs": [],
   "source": [
    "sub = pd.DataFrame(predictions, columns=[\"row_id\", \"target\"])"
   ]
  },
  {
   "cell_type": "code",
   "execution_count": null,
   "metadata": {},
   "outputs": [],
   "source": [
    "sub.to_csv(\"submission.csv\", index=False)"
   ]
  }
 ],
 "metadata": {
  "kernelspec": {
   "display_name": "ml",
   "language": "python",
   "name": "ml"
  },
  "language_info": {
   "codemirror_mode": {
    "name": "ipython",
    "version": 3
   },
   "file_extension": ".py",
   "mimetype": "text/x-python",
   "name": "python",
   "nbconvert_exporter": "python",
   "pygments_lexer": "ipython3",
   "version": "3.8.1"
  }
 },
 "nbformat": 4,
 "nbformat_minor": 4
}
